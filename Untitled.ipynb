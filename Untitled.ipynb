{
 "cells": [
  {
   "cell_type": "code",
   "execution_count": 3,
   "id": "fa1e1d39-ebbb-40d8-a085-3dfd72fa373c",
   "metadata": {},
   "outputs": [],
   "source": [
    "import warnings\n",
    "warnings.filterwarnings(\"ignore\")\n",
    "import pandas as pd\n",
    "import numpy as np\n",
    "import os\n",
    "import datetime\n",
    "import time\n",
    "import random\n",
    "\n",
    "%matplotlib inline \n",
    "import matplotlib.pyplot as plt\n",
    "import seaborn as sns\n",
    "sns.set_style('darkgrid', {'axes.facecolor': '0.9'})"
   ]
  },
  {
   "cell_type": "markdown",
   "id": "1c7df17b-675a-47d8-a3a6-211e3d345d40",
   "metadata": {},
   "source": [
    "# Data Simulator"
   ]
  },
  {
   "cell_type": "markdown",
   "id": "b6bfbf6a-6ff8-4d90-bae4-9e6ac23c1764",
   "metadata": {},
   "source": [
    "## Transaction data simulator"
   ]
  },
  {
   "cell_type": "markdown",
   "id": "203013b1-2069-41b1-aa90-3de06e09ce4a",
   "metadata": {},
   "source": [
    "1. The transaction ID: A unique identifier for the transaction (**TRANSACTION_ID**)\n",
    "\n",
    "2. The date and time: Date and time at which the transaction occurs (**TX_DATETIME**)\n",
    "\n",
    "3. The customer ID: The identifier for the customer. Each customer has a unique identifier (**CUSTOMER_ID**)\n",
    "\n",
    "4. The terminal ID: The identifier for the merchant (or more precisely the terminal). Each terminal has a unique identifier (**TERMINAL_ID**)\n",
    "\n",
    "5. The transaction amount: The amount of the transaction. (**TX_AMOUNT**)\n",
    "\n",
    "6. The fraud label: A binary variable, with the value for a legitimate transaction, or the value for a fraudulent transaction. (**TX_FRAUD**)"
   ]
  },
  {
   "cell_type": "markdown",
   "id": "c7ab6a62-6bd5-44b9-8e27-c0507c14f2e5",
   "metadata": {},
   "source": [
    "## Customer profiles generation"
   ]
  },
  {
   "cell_type": "markdown",
   "id": "d7bf51a3-4acf-4a07-bb8b-bd6602710a50",
   "metadata": {},
   "source": [
    "CUSTOMER_ID: The customer unique ID\n",
    "\n",
    "1. (x_customer_id,y_customer_id): A pair of real coordinates (x_customer_id,y_customer_id) in a 100 * 100 grid, \n",
    "    that defines the geographical location of the customer\n",
    "\n",
    "2. (mean_amount, std_amount): The mean and standard deviation of the transaction amounts for the customer,\n",
    "   assuming that the transaction amounts follow a normal distribution. The mean_amount will be drawn from a uniform distribution (5,100) and the     std_amount will be set as the mean_amount divided by two.\n",
    "\n",
    "3. mean_nb_tx_per_day: The average number of transactions per day for the customer,\n",
    "   assuming that the number of transactions per day follows a Poisson distribution. This number will be drawn from a uniform distribution (0,4)."
   ]
  },
  {
   "cell_type": "code",
   "execution_count": null,
   "id": "0b0e48b0-bcbb-454d-8b74-0ca183d74a28",
   "metadata": {},
   "outputs": [],
   "source": []
  }
 ],
 "metadata": {
  "kernelspec": {
   "display_name": ".venv",
   "language": "python",
   "name": ".venv"
  },
  "language_info": {
   "codemirror_mode": {
    "name": "ipython",
    "version": 3
   },
   "file_extension": ".py",
   "mimetype": "text/x-python",
   "name": "python",
   "nbconvert_exporter": "python",
   "pygments_lexer": "ipython3",
   "version": "3.9.13"
  }
 },
 "nbformat": 4,
 "nbformat_minor": 5
}
